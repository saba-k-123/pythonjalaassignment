{
 "cells": [
  {
   "cell_type": "code",
   "execution_count": 4,
   "id": "17cde677",
   "metadata": {},
   "outputs": [
    {
     "name": "stdout",
     "output_type": "stream",
     "text": [
      "Implementation of the abstract_method in the ConcreteClass\n",
      "This is a non-abstract method.\n"
     ]
    }
   ],
   "source": [
    "# Create an abstract class with abstract and non-abstract methods.\n",
    "from abc import ABC, abstractmethod\n",
    "\n",
    "class AbstractClass(ABC):\n",
    "    @abstractmethod\n",
    "    def abstract_method(self):\n",
    "        pass\n",
    "\n",
    "    def non_abstract_method(self):\n",
    "        print(\"This is a non-abstract method.\")\n",
    "\n",
    "# Create an instance of the AbstractClass (not allowed since it's abstract)\n",
    "# obj = AbstractClass()\n",
    "\n",
    "# Create a concrete subclass of AbstractClass\n",
    "class ConcreteClass(AbstractClass):\n",
    "    def abstract_method(self):\n",
    "        print(\"Implementation of the abstract_method in the ConcreteClass\")\n",
    "\n",
    "# Create an instance of the ConcreteClass\n",
    "obj = ConcreteClass()\n",
    "\n",
    "# Call the abstract and non-abstract methods\n",
    "obj.abstract_method()\n",
    "obj.non_abstract_method()\n"
   ]
  },
  {
   "cell_type": "code",
   "execution_count": 3,
   "id": "eac49700",
   "metadata": {},
   "outputs": [
    {
     "name": "stdout",
     "output_type": "stream",
     "text": [
      "This is a non-abstract method in the abstract class.\n"
     ]
    }
   ],
   "source": [
    "# 2. Create a sub class for an abstract class. Create an object in the child class for the \n",
    "# abstract class and access the non-abstract methods\n",
    "from abc import ABC, abstractmethod\n",
    "\n",
    "class AbstractClass(ABC):\n",
    "    @abstractmethod\n",
    "    def abstract_method(self):\n",
    "        pass\n",
    "\n",
    "    def non_abstract_method(self):\n",
    "        print(\"This is a non-abstract method in the abstract class.\")\n",
    "\n",
    "class SubClass(AbstractClass):\n",
    "    def abstract_method(self):\n",
    "        print(\"This is the implementation of the abstract method in the subclass.\")\n",
    "\n",
    "# Create an object of the SubClass\n",
    "sub_obj = SubClass()\n",
    "\n",
    "# Access the non-abstract method from the SubClass object\n",
    "sub_obj.non_abstract_method()\n"
   ]
  },
  {
   "cell_type": "code",
   "execution_count": 2,
   "id": "fe9e8475",
   "metadata": {},
   "outputs": [
    {
     "name": "stdout",
     "output_type": "stream",
     "text": [
      "Implementation of abstract_method in ChildClass\n"
     ]
    }
   ],
   "source": [
    "# 3. Create an instance for the child class in child class and call abstract methods\n",
    "from abc import ABC, abstractmethod\n",
    "\n",
    "class ParentClass(ABC):\n",
    "    @abstractmethod\n",
    "    def abstract_method(self):\n",
    "        pass\n",
    "\n",
    "class ChildClass(ParentClass):\n",
    "    def abstract_method(self):\n",
    "        print(\"Implementation of abstract_method in ChildClass\")\n",
    "\n",
    "class ConcreteChildClass(ChildClass):\n",
    "    pass\n",
    "\n",
    "# Create an instance of the ConcreteChildClass\n",
    "child = ConcreteChildClass()\n",
    "\n",
    "# Call the abstract method from the ConcreteChildClass instance\n",
    "child.abstract_method()\n"
   ]
  },
  {
   "cell_type": "code",
   "execution_count": 1,
   "id": "91c7b921",
   "metadata": {},
   "outputs": [
    {
     "name": "stdout",
     "output_type": "stream",
     "text": [
      "This is a non-abstract method in the parent class.\n"
     ]
    }
   ],
   "source": [
    "# # 4. Create an instance for the child class in child class and call non-abstract methods\n",
    "from abc import ABC, abstractmethod\n",
    "\n",
    "class ParentClass(ABC):\n",
    "    @abstractmethod\n",
    "    def abstract_method(self):\n",
    "        pass\n",
    "\n",
    "    def non_abstract_method(self):\n",
    "        print(\"This is a non-abstract method in the parent class.\")\n",
    "\n",
    "class ChildClass(ParentClass):\n",
    "    def abstract_method(self):\n",
    "        print(\"This is the implementation of the abstract method in the child class.\")\n",
    "\n",
    "    def call_non_abstract_method(self):\n",
    "        self.non_abstract_method()\n",
    "\n",
    "# Create an instance of the ChildClass\n",
    "child = ChildClass()\n",
    "\n",
    "# Call the non-abstract method from the ChildClass instance\n",
    "child.call_non_abstract_method()\n"
   ]
  },
  {
   "cell_type": "code",
   "execution_count": null,
   "id": "0e65bcc0",
   "metadata": {},
   "outputs": [],
   "source": []
  }
 ],
 "metadata": {
  "kernelspec": {
   "display_name": "Python 3 (ipykernel)",
   "language": "python",
   "name": "python3"
  },
  "language_info": {
   "codemirror_mode": {
    "name": "ipython",
    "version": 3
   },
   "file_extension": ".py",
   "mimetype": "text/x-python",
   "name": "python",
   "nbconvert_exporter": "python",
   "pygments_lexer": "ipython3",
   "version": "3.9.7"
  }
 },
 "nbformat": 4,
 "nbformat_minor": 5
}
