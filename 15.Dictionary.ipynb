{
 "cells": [
  {
   "cell_type": "code",
   "execution_count": 1,
   "id": "a309f936",
   "metadata": {},
   "outputs": [
    {
     "name": "stdout",
     "output_type": "stream",
     "text": [
      "John\n",
      "John\n",
      "dict_keys([101, 102, 103, 104, 105, 106])\n"
     ]
    }
   ],
   "source": [
    "# Create a Dictionary with at least 5 key value pairs of the Student ID and Name\n",
    "# 1.1. Adding the values in dictionary\n",
    "# 1.2. Updating the values in dictionary\n",
    "# 1.3. Accessing the value in dictionary\n",
    "# 1.4. Create a nested loop dictionary\n",
    "# 1.5. Access the values of nested loop dictionary\n",
    "# 1.6. Print the keys present in a particular dictionary\n",
    "# 1.7. Delete a value from a dictionary\n",
    "\n",
    "# 1.1. Adding the values in a dictionary\n",
    "student_dict = {\n",
    "    101: \"John\",\n",
    "    102: \"Emily\",\n",
    "    103: \"Michael\",\n",
    "    104: \"Sophia\",\n",
    "    105: \"David\"\n",
    "}\n",
    "\n",
    "# 1.2. Updating the values in a dictionary\n",
    "student_dict[102] = \"Emma\"\n",
    "student_dict[106] = \"Oliver\"\n",
    "\n",
    "# 1.3. Accessing the value in a dictionary\n",
    "print(student_dict[101])  # Output: John\n",
    "\n",
    "# 1.4. Creating a nested loop dictionary\n",
    "subject_dict = {\n",
    "    \"Math\": {\n",
    "        101: \"John\",\n",
    "        102: \"Emma\",\n",
    "        103: \"Michael\"\n",
    "    },\n",
    "    \"Science\": {\n",
    "        104: \"Sophia\",\n",
    "        105: \"David\"\n",
    "    }\n",
    "}\n",
    "\n",
    "# 1.5. Accessing the values of a nested loop dictionary\n",
    "print(subject_dict[\"Math\"][101])  # Output: John\n",
    "\n",
    "# 1.6. Printing the keys present in a particular dictionary\n",
    "print(student_dict.keys())  # Output: dict_keys([101, 102, 103, 104, 105, 106])\n",
    "\n",
    "# 1.7. Deleting a value from a dictionary\n",
    "del student_dict[104]\n"
   ]
  },
  {
   "cell_type": "code",
   "execution_count": null,
   "id": "7ef9a561",
   "metadata": {},
   "outputs": [],
   "source": []
  }
 ],
 "metadata": {
  "kernelspec": {
   "display_name": "Python 3 (ipykernel)",
   "language": "python",
   "name": "python3"
  },
  "language_info": {
   "codemirror_mode": {
    "name": "ipython",
    "version": 3
   },
   "file_extension": ".py",
   "mimetype": "text/x-python",
   "name": "python",
   "nbconvert_exporter": "python",
   "pygments_lexer": "ipython3",
   "version": "3.9.7"
  }
 },
 "nbformat": 4,
 "nbformat_minor": 5
}
