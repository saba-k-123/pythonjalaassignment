{
 "cells": [
  {
   "cell_type": "code",
   "execution_count": 2,
   "id": "5bf1ff26",
   "metadata": {},
   "outputs": [
    {
     "name": "stdout",
     "output_type": "stream",
     "text": [
      "saba khalid\n"
     ]
    }
   ],
   "source": [
    "#Write a program to print your name.\n",
    "\n",
    "print(\"saba khalid\")"
   ]
  },
  {
   "cell_type": "code",
   "execution_count": 4,
   "id": "7cb45287",
   "metadata": {},
   "outputs": [
    {
     "data": {
      "text/plain": [
       "'\\nThis is a block of code that you want to comment out.\\nprint(\"Hello, World!\")\\nprint(\"Goodbye, World!\")\\n'"
      ]
     },
     "execution_count": 4,
     "metadata": {},
     "output_type": "execute_result"
    }
   ],
   "source": [
    "#Write a program for a Single line comment and multi-line comment\n",
    "\n",
    "#Write a program Single line\n",
    "\n",
    "\n",
    "\"\"\"\n",
    "This is a block of code that you want to comment out.\n",
    "print(\"Hello, World!\")\n",
    "print(\"Goodbye, World!\")\n",
    "\"\"\""
   ]
  },
  {
   "cell_type": "code",
   "execution_count": 5,
   "id": "9bd628ea",
   "metadata": {},
   "outputs": [
    {
     "name": "stdout",
     "output_type": "stream",
     "text": [
      "Integer: 42\n",
      "Boolean: True\n",
      "Character: A\n",
      "Float: 3.14\n",
      "Double: 3.14159\n"
     ]
    }
   ],
   "source": [
    "# Define variables for different Data Types int, Boolean, char, float, double and print on the Console.\n",
    "# Integer\n",
    "my_integer = 42\n",
    "print(\"Integer:\", my_integer)\n",
    "\n",
    "# Boolean\n",
    "my_boolean = True\n",
    "print(\"Boolean:\", my_boolean)\n",
    "\n",
    "# Character (Python doesn't have a separate 'char' data type, but you can use strings)\n",
    "my_character = 'A'\n",
    "print(\"Character:\", my_character)\n",
    "\n",
    "# Float\n",
    "my_float = 3.14\n",
    "print(\"Float:\", my_float)\n",
    "\n",
    "# Double (In Python, all floating-point numbers are essentially doubles)\n",
    "my_double = 3.14159\n",
    "print(\"Double:\", my_double)\n"
   ]
  },
  {
   "cell_type": "code",
   "execution_count": 9,
   "id": "0b238aee",
   "metadata": {},
   "outputs": [
    {
     "name": "stdout",
     "output_type": "stream",
     "text": [
      "Inside the function: Local\n",
      "Outside the function: Global\n"
     ]
    }
   ],
   "source": [
    "# Define the local and Global variables with the same name and print both variables and \n",
    "# understand the scope of the variables\n",
    "\n",
    "\n",
    "# Global variable\n",
    "my_variable = \"Global\"\n",
    "\n",
    "def my_function():\n",
    "    # Local variable with the same name as the global variable\n",
    "    my_variable = \"Local\"\n",
    "    print(\"Inside the function:\", my_variable)\n",
    "\n",
    "# Accessing the local variable within the function\n",
    "my_function()\n",
    "\n",
    "# Accessing the global variable outside the function\n",
    "print(\"Outside the function:\", my_variable)\n"
   ]
  },
  {
   "cell_type": "code",
   "execution_count": null,
   "id": "6dde9f7a",
   "metadata": {},
   "outputs": [],
   "source": []
  }
 ],
 "metadata": {
  "kernelspec": {
   "display_name": "Python 3 (ipykernel)",
   "language": "python",
   "name": "python3"
  },
  "language_info": {
   "codemirror_mode": {
    "name": "ipython",
    "version": 3
   },
   "file_extension": ".py",
   "mimetype": "text/x-python",
   "name": "python",
   "nbconvert_exporter": "python",
   "pygments_lexer": "ipython3",
   "version": "3.9.7"
  }
 },
 "nbformat": 4,
 "nbformat_minor": 5
}
