{
 "cells": [
  {
   "cell_type": "code",
   "execution_count": 1,
   "id": "147003a4",
   "metadata": {},
   "outputs": [
    {
     "name": "stdout",
     "output_type": "stream",
     "text": [
      "Sum of array elements: 15\n"
     ]
    }
   ],
   "source": [
    "# Write a function to add integer values of an array\n",
    "def sum_array_elements(arr):\n",
    "    array_sum = 0\n",
    "\n",
    "    for num in arr:\n",
    "        array_sum += num\n",
    "\n",
    "    return array_sum\n",
    "\n",
    "\n",
    "my_array = [1, 2, 3, 4, 5]\n",
    "result = sum_array_elements(my_array)\n",
    "print(\"Sum of array elements:\", result)\n"
   ]
  },
  {
   "cell_type": "code",
   "execution_count": 2,
   "id": "6087855e",
   "metadata": {},
   "outputs": [
    {
     "name": "stdout",
     "output_type": "stream",
     "text": [
      "Average: 3.0\n"
     ]
    }
   ],
   "source": [
    "# 2. Write a function to calculate the average value of an array of integers\n",
    "def calculate_average(arr):\n",
    "    array_sum = sum(arr)\n",
    "    array_length = len(arr)\n",
    "\n",
    "    if array_length > 0:\n",
    "        average = array_sum / array_length\n",
    "        return average\n",
    "    else:\n",
    "        return None\n",
    "\n",
    "\n",
    "my_array = [1, 2, 3, 4, 5]\n",
    "result = calculate_average(my_array)\n",
    "print(\"Average:\", result)\n"
   ]
  },
  {
   "cell_type": "code",
   "execution_count": 11,
   "id": "ac25deef",
   "metadata": {},
   "outputs": [
    {
     "name": "stdout",
     "output_type": "stream",
     "text": [
      "30\n",
      "20\n",
      "10\n",
      "10\n",
      "20\n",
      "30\n"
     ]
    }
   ],
   "source": [
    "# 3. Write a program to find the index of an array element\n",
    "numbers = [10,20,30]\n",
    "\n",
    "print(numbers[-1]) \n",
    "print(numbers[-2]) \n",
    "print(numbers[-3]) \n",
    "print(numbers[0]) \n",
    "print(numbers[1]) \n",
    "print(numbers[2]) \n",
    " "
   ]
  },
  {
   "cell_type": "code",
   "execution_count": 19,
   "id": "10557ac5",
   "metadata": {},
   "outputs": [
    {
     "name": "stdout",
     "output_type": "stream",
     "text": [
      "The array contains 50.\n"
     ]
    }
   ],
   "source": [
    "# 4. Write a function to test if array contains a specific value\n",
    "def array_contains_value(arr, value):\n",
    "    return value in arr\n",
    "\n",
    "\n",
    "my_array = [10, 20, 30, 40, 50]\n",
    "target_value = 50\n",
    "result = array_contains_value(my_array, target_value)\n",
    "if result:\n",
    "    print(f\"The array contains {target_value}.\")\n",
    "else:\n",
    "    print(f\"The array does not contain {target_value}.\")\n"
   ]
  },
  {
   "cell_type": "code",
   "execution_count": 15,
   "id": "326fef12",
   "metadata": {},
   "outputs": [
    {
     "name": "stdout",
     "output_type": "stream",
     "text": [
      "Before removal: [10, 20, 30, 40, 50]\n",
      "After removal: [10, 20, 40, 50]\n"
     ]
    }
   ],
   "source": [
    "# 5. Write a function to remove a specific element from an array\n",
    "def remove_element(arr, element):\n",
    "    if element in arr:\n",
    "        arr.remove(element)\n",
    "\n",
    "\n",
    "my_array = [10, 20, 30, 40, 50]\n",
    "element_to_remove = 30\n",
    "\n",
    "print(\"Before removal:\", my_array)\n",
    "remove_element(my_array, element_to_remove)\n",
    "print(\"After removal:\", my_array)\n"
   ]
  },
  {
   "cell_type": "code",
   "execution_count": 18,
   "id": "3cd28966",
   "metadata": {},
   "outputs": [
    {
     "name": "stdout",
     "output_type": "stream",
     "text": [
      "Original array: [10, 20, 30, 40, 50]\n",
      "Copied array: [10, 20, 30, 40, 50]\n"
     ]
    }
   ],
   "source": [
    "# 6. Write a function to copy an array to another array\n",
    "def copy_array(arr):\n",
    "    new_array = arr.copy()\n",
    "    return new_array\n",
    "\n",
    "\n",
    "my_array = [10, 20, 30, 40, 50]\n",
    "copied_array = copy_array(my_array)\n",
    "\n",
    "print(\"Original array:\", my_array)\n",
    "print(\"Copied array:\", copied_array)\n"
   ]
  },
  {
   "cell_type": "code",
   "execution_count": 20,
   "id": "7a4b3b9b",
   "metadata": {},
   "outputs": [
    {
     "name": "stdout",
     "output_type": "stream",
     "text": [
      "Before insertion: [10, 20, 30, 40, 50]\n",
      "After insertion: [10, 20, 25, 30, 40, 50]\n"
     ]
    }
   ],
   "source": [
    "# 7. Write a function to insert an element at a specific position in the array\n",
    "def insert_element(arr, element, position):\n",
    "    arr.insert(position, element)\n",
    "\n",
    "# Example usage\n",
    "my_array = [10, 20, 30, 40, 50]\n",
    "element_to_insert = 25\n",
    "insert_position = 2\n",
    "\n",
    "print(\"Before insertion:\", my_array)\n",
    "insert_element(my_array, element_to_insert, insert_position)\n",
    "print(\"After insertion:\", my_array)\n"
   ]
  },
  {
   "cell_type": "code",
   "execution_count": 21,
   "id": "b7b6a7be",
   "metadata": {},
   "outputs": [
    {
     "name": "stdout",
     "output_type": "stream",
     "text": [
      "Minimum value: 3\n",
      "Maximum value: 12\n"
     ]
    }
   ],
   "source": [
    "# 8. Write a function to find the minimum and maximum value of an array\n",
    "def find_min_max(arr):\n",
    "    if not arr:\n",
    "        return None\n",
    "\n",
    "    min_value = arr[0]\n",
    "    max_value = arr[0]\n",
    "\n",
    "    for num in arr:\n",
    "        if num < min_value:\n",
    "            min_value = num\n",
    "        if num > max_value:\n",
    "            max_value = num\n",
    "\n",
    "    return min_value, max_value\n",
    "\n",
    "\n",
    "my_array = [10, 5, 8, 3, 12]\n",
    "min_val, max_val = find_min_max(my_array)\n",
    "print(\"Minimum value:\", min_val)\n",
    "print(\"Maximum value:\", max_val)\n"
   ]
  },
  {
   "cell_type": "code",
   "execution_count": 22,
   "id": "81a0bb02",
   "metadata": {},
   "outputs": [
    {
     "name": "stdout",
     "output_type": "stream",
     "text": [
      "Original array: [10, 20, 30, 40, 50]\n",
      "Reversed array: [50, 40, 30, 20, 10]\n"
     ]
    }
   ],
   "source": [
    "# 9. Write a function to reverse an array of integer values\n",
    "def reverse_array(arr):\n",
    "    return arr[::-1]\n",
    "\n",
    "\n",
    "my_array = [10, 20, 30, 40, 50]\n",
    "reversed_array = reverse_array(my_array)\n",
    "print(\"Original array:\", my_array)\n",
    "print(\"Reversed array:\", reversed_array)\n"
   ]
  },
  {
   "cell_type": "code",
   "execution_count": 23,
   "id": "e55cd971",
   "metadata": {},
   "outputs": [
    {
     "name": "stdout",
     "output_type": "stream",
     "text": [
      "Duplicate values: [30, 20, 10]\n"
     ]
    }
   ],
   "source": [
    "# 10. Write a function to find the duplicate values of an array\n",
    "def find_duplicates(arr):\n",
    "    seen = set()\n",
    "    duplicates = []\n",
    "\n",
    "    for num in arr:\n",
    "        if num in seen and num not in duplicates:\n",
    "            duplicates.append(num)\n",
    "        else:\n",
    "            seen.add(num)\n",
    "\n",
    "    return duplicates\n",
    "\n",
    "\n",
    "my_array = [10, 20, 30, 40, 30, 20, 50, 10, 30]\n",
    "duplicate_values = find_duplicates(my_array)\n",
    "print(\"Duplicate values:\", duplicate_values)\n"
   ]
  },
  {
   "cell_type": "code",
   "execution_count": 25,
   "id": "004ae619",
   "metadata": {},
   "outputs": [
    {
     "name": "stdout",
     "output_type": "stream",
     "text": [
      "Common values: [4, 5]\n"
     ]
    }
   ],
   "source": [
    "# 11. Write a program to find the common values between two arrays\n",
    "def find_common_values(arr1, arr2):\n",
    "    common_values = []\n",
    "\n",
    "    for num in arr1:\n",
    "        if num in arr2 and num not in common_values:\n",
    "            common_values.append(num)\n",
    "\n",
    "    return common_values\n",
    "\n",
    "array1 = [1, 2, 3, 4, 5]\n",
    "array2 = [4, 5, 6, 7, 8]\n",
    "common_values = find_common_values(array1, array2)\n",
    "print(\"Common values:\", common_values)\n"
   ]
  },
  {
   "cell_type": "code",
   "execution_count": 26,
   "id": "34117e63",
   "metadata": {},
   "outputs": [
    {
     "name": "stdout",
     "output_type": "stream",
     "text": [
      "Original array: [1, 2, 3, 2, 4, 5, 3]\n",
      "Array with duplicates removed: [1, 2, 3, 4, 5]\n"
     ]
    }
   ],
   "source": [
    "# 12. Write a method to remove duplicate elements from an array\n",
    "def remove_duplicates(arr):\n",
    "    return list(set(arr))\n",
    "\n",
    "\n",
    "my_array = [1, 2, 3, 2, 4, 5, 3]\n",
    "unique_array = remove_duplicates(my_array)\n",
    "print(\"Original array:\", my_array)\n",
    "print(\"Array with duplicates removed:\", unique_array)\n"
   ]
  },
  {
   "cell_type": "code",
   "execution_count": 28,
   "id": "6cdbf6e7",
   "metadata": {},
   "outputs": [
    {
     "name": "stdout",
     "output_type": "stream",
     "text": [
      "Array: [10, 5, 8, 12, 15, 6]\n",
      "Second largest number: 12\n"
     ]
    }
   ],
   "source": [
    "# 13. Write a method to find the second largest number in an array\n",
    "def find_second_largest(arr):\n",
    "    if len(arr) < 2:\n",
    "        return None\n",
    "\n",
    "    max_num = float('-inf')\n",
    "    second_max_num = float('-inf')\n",
    "\n",
    "    for num in arr:\n",
    "        if num > max_num:\n",
    "            second_max_num = max_num\n",
    "            max_num = num\n",
    "        elif num > second_max_num and num != max_num:\n",
    "            second_max_num = num\n",
    "\n",
    "    if second_max_num == float('-inf'):\n",
    "        return None\n",
    "\n",
    "    return second_max_num\n",
    "\n",
    "\n",
    "my_array = [10, 5, 8, 12, 15, 6]\n",
    "second_largest = find_second_largest(my_array)\n",
    "print(\"Array:\", my_array)\n",
    "if second_largest is None:\n",
    "    print(\"There is no second largest number.\")\n",
    "else:\n",
    "    print(\"Second largest number:\", second_largest)\n"
   ]
  },
  {
   "cell_type": "code",
   "execution_count": 29,
   "id": "263712d5",
   "metadata": {},
   "outputs": [
    {
     "name": "stdout",
     "output_type": "stream",
     "text": [
      "Array: [1, 2, 3, 4, 5, 6, 7, 8, 9]\n",
      "Number of even numbers: 4\n",
      "Number of odd numbers: 5\n"
     ]
    }
   ],
   "source": [
    "# 15. Write a method to find number of even number and odd numbers in an array\n",
    "def count_even_odd(arr):\n",
    "    even_count = 0\n",
    "    odd_count = 0\n",
    "\n",
    "    for num in arr:\n",
    "        if num % 2 == 0:\n",
    "            even_count += 1\n",
    "        else:\n",
    "            odd_count += 1\n",
    "\n",
    "    return even_count, odd_count\n",
    "\n",
    "\n",
    "my_array = [1, 2, 3, 4, 5, 6, 7, 8, 9]\n",
    "even_count, odd_count = count_even_odd(my_array)\n",
    "print(\"Array:\", my_array)\n",
    "print(\"Number of even numbers:\", even_count)\n",
    "print(\"Number of odd numbers:\", odd_count)\n"
   ]
  },
  {
   "cell_type": "code",
   "execution_count": 30,
   "id": "1e82eb9f",
   "metadata": {},
   "outputs": [
    {
     "name": "stdout",
     "output_type": "stream",
     "text": [
      "Array: [5, 2, 9, 1, 7, 4]\n",
      "Difference between largest and smallest value: 8\n"
     ]
    }
   ],
   "source": [
    "# 16. Write a function to get the difference of largest and smallest value\n",
    "def get_difference(arr):\n",
    "    if len(arr) == 0:\n",
    "        return None\n",
    "\n",
    "    min_value = arr[0]\n",
    "    max_value = arr[0]\n",
    "\n",
    "    for num in arr:\n",
    "        if num < min_value:\n",
    "            min_value = num\n",
    "        if num > max_value:\n",
    "            max_value = num\n",
    "\n",
    "    return max_value - min_value\n",
    "\n",
    "\n",
    "my_array = [5, 2, 9, 1, 7, 4]\n",
    "difference = get_difference(my_array)\n",
    "print(\"Array:\", my_array)\n",
    "if difference is None:\n",
    "    print(\"The array is empty.\")\n",
    "else:\n",
    "    print(\"Difference between largest and smallest value:\", difference)\n"
   ]
  },
  {
   "cell_type": "code",
   "execution_count": 31,
   "id": "bb41e428",
   "metadata": {},
   "outputs": [
    {
     "name": "stdout",
     "output_type": "stream",
     "text": [
      "Array: [10, 5, 8, 12, 15, 6, 23]\n",
      "The array contains both 12 and 23.\n"
     ]
    }
   ],
   "source": [
    "# 17. Write a method to verify if the array contains two specified elements(12,23)\n",
    "def verify_elements(arr):\n",
    "    if 12 in arr and 23 in arr:\n",
    "        return True\n",
    "    else:\n",
    "        return False\n",
    "\n",
    "\n",
    "my_array = [10, 5, 8, 12, 15, 6, 23]\n",
    "contains_elements = verify_elements(my_array)\n",
    "print(\"Array:\", my_array)\n",
    "if contains_elements:\n",
    "    print(\"The array contains both 12 and 23.\")\n",
    "else:\n",
    "    print(\"The array does not contain both 12 and 23.\")\n"
   ]
  },
  {
   "cell_type": "code",
   "execution_count": 32,
   "id": "50a88782",
   "metadata": {},
   "outputs": [
    {
     "name": "stdout",
     "output_type": "stream",
     "text": [
      "Original array: [1, 2, 3, 2, 4, 1, 5, 4]\n",
      "New array without duplicates: [1, 2, 3, 4, 5]\n"
     ]
    }
   ],
   "source": [
    "# 18. Write a program to remove the duplicate elements and return the new array\n",
    "def remove_duplicates(arr):\n",
    "    return list(set(arr))\n",
    "\n",
    "\n",
    "my_array = [1, 2, 3, 2, 4, 1, 5, 4]\n",
    "new_array = remove_duplicates(my_array)\n",
    "print(\"Original array:\", my_array)\n",
    "print(\"New array without duplicates:\", new_array)\n"
   ]
  },
  {
   "cell_type": "code",
   "execution_count": null,
   "id": "ef153bd5",
   "metadata": {},
   "outputs": [],
   "source": []
  }
 ],
 "metadata": {
  "kernelspec": {
   "display_name": "Python 3 (ipykernel)",
   "language": "python",
   "name": "python3"
  },
  "language_info": {
   "codemirror_mode": {
    "name": "ipython",
    "version": 3
   },
   "file_extension": ".py",
   "mimetype": "text/x-python",
   "name": "python",
   "nbconvert_exporter": "python",
   "pygments_lexer": "ipython3",
   "version": "3.9.7"
  }
 },
 "nbformat": 4,
 "nbformat_minor": 5
}
