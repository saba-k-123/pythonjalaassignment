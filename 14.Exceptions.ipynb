{
 "cells": [
  {
   "cell_type": "code",
   "execution_count": 8,
   "id": "f6b483ad",
   "metadata": {},
   "outputs": [
    {
     "ename": "ZeroDivisionError",
     "evalue": "division by zero",
     "output_type": "error",
     "traceback": [
      "\u001b[1;31m---------------------------------------------------------------------------\u001b[0m",
      "\u001b[1;31mZeroDivisionError\u001b[0m                         Traceback (most recent call last)",
      "\u001b[1;32m~\\AppData\\Local\\Temp/ipykernel_5172/3800992916.py\u001b[0m in \u001b[0;36m<module>\u001b[1;34m\u001b[0m\n\u001b[0;32m      1\u001b[0m \u001b[1;31m# Write a program to generate Arithmetic Exception without exception handling\u001b[0m\u001b[1;33m\u001b[0m\u001b[1;33m\u001b[0m\u001b[0m\n\u001b[1;32m----> 2\u001b[1;33m \u001b[0mresult\u001b[0m \u001b[1;33m=\u001b[0m \u001b[1;36m10\u001b[0m \u001b[1;33m/\u001b[0m \u001b[1;36m0\u001b[0m\u001b[1;33m\u001b[0m\u001b[1;33m\u001b[0m\u001b[0m\n\u001b[0m",
      "\u001b[1;31mZeroDivisionError\u001b[0m: division by zero"
     ]
    }
   ],
   "source": [
    "# Write a program to generate Arithmetic Exception without exception handling\n",
    "result = 10 / 0\n"
   ]
  },
  {
   "cell_type": "code",
   "execution_count": 9,
   "id": "8d2fc57c",
   "metadata": {},
   "outputs": [
    {
     "name": "stdout",
     "output_type": "stream",
     "text": [
      "Error: Division by zero\n"
     ]
    }
   ],
   "source": [
    "# 2. Handle the Arithmetic exception using try-catch block\n",
    "try:\n",
    "    result = 10 / 0\n",
    "except ZeroDivisionError:\n",
    "    print(\"Error: Division by zero\")\n"
   ]
  },
  {
   "cell_type": "code",
   "execution_count": 11,
   "id": "a7e8db10",
   "metadata": {},
   "outputs": [
    {
     "ename": "Exception",
     "evalue": "This is an exception",
     "output_type": "error",
     "traceback": [
      "\u001b[1;31m---------------------------------------------------------------------------\u001b[0m",
      "\u001b[1;31mException\u001b[0m                                 Traceback (most recent call last)",
      "\u001b[1;32m~\\AppData\\Local\\Temp/ipykernel_5172/648237970.py\u001b[0m in \u001b[0;36m<module>\u001b[1;34m\u001b[0m\n\u001b[0;32m      3\u001b[0m     \u001b[1;32mraise\u001b[0m \u001b[0mException\u001b[0m\u001b[1;33m(\u001b[0m\u001b[1;34m\"This is an exception\"\u001b[0m\u001b[1;33m)\u001b[0m\u001b[1;33m\u001b[0m\u001b[1;33m\u001b[0m\u001b[0m\n\u001b[0;32m      4\u001b[0m \u001b[1;33m\u001b[0m\u001b[0m\n\u001b[1;32m----> 5\u001b[1;33m \u001b[0mthrow_exception\u001b[0m\u001b[1;33m(\u001b[0m\u001b[1;33m)\u001b[0m\u001b[1;33m\u001b[0m\u001b[1;33m\u001b[0m\u001b[0m\n\u001b[0m",
      "\u001b[1;32m~\\AppData\\Local\\Temp/ipykernel_5172/648237970.py\u001b[0m in \u001b[0;36mthrow_exception\u001b[1;34m()\u001b[0m\n\u001b[0;32m      1\u001b[0m \u001b[1;31m# 3. Write a method which throws exception, Call that method in main class without try block\u001b[0m\u001b[1;33m\u001b[0m\u001b[1;33m\u001b[0m\u001b[0m\n\u001b[0;32m      2\u001b[0m \u001b[1;32mdef\u001b[0m \u001b[0mthrow_exception\u001b[0m\u001b[1;33m(\u001b[0m\u001b[1;33m)\u001b[0m\u001b[1;33m:\u001b[0m\u001b[1;33m\u001b[0m\u001b[1;33m\u001b[0m\u001b[0m\n\u001b[1;32m----> 3\u001b[1;33m     \u001b[1;32mraise\u001b[0m \u001b[0mException\u001b[0m\u001b[1;33m(\u001b[0m\u001b[1;34m\"This is an exception\"\u001b[0m\u001b[1;33m)\u001b[0m\u001b[1;33m\u001b[0m\u001b[1;33m\u001b[0m\u001b[0m\n\u001b[0m\u001b[0;32m      4\u001b[0m \u001b[1;33m\u001b[0m\u001b[0m\n\u001b[0;32m      5\u001b[0m \u001b[0mthrow_exception\u001b[0m\u001b[1;33m(\u001b[0m\u001b[1;33m)\u001b[0m\u001b[1;33m\u001b[0m\u001b[1;33m\u001b[0m\u001b[0m\n",
      "\u001b[1;31mException\u001b[0m: This is an exception"
     ]
    }
   ],
   "source": [
    "# 3. Write a method which throws exception, Call that method in main class without try block\n",
    "def throw_exception():\n",
    "    raise Exception(\"This is an exception\")\n",
    "\n",
    "throw_exception()\n"
   ]
  },
  {
   "cell_type": "code",
   "execution_count": 12,
   "id": "d3842211",
   "metadata": {},
   "outputs": [
    {
     "name": "stdout",
     "output_type": "stream",
     "text": [
      "Error: Division by zero\n"
     ]
    }
   ],
   "source": [
    "# 4. Write a program with multiple catch blocks\n",
    "try:\n",
    "    # Code that may raise an exception\n",
    "    result = 10 / 0\n",
    "except ZeroDivisionError:\n",
    "    print(\"Error: Division by zero\")\n",
    "except ArithmeticError:\n",
    "    print(\"Error: Arithmetic exception\")\n"
   ]
  },
  {
   "cell_type": "code",
   "execution_count": 13,
   "id": "30bd6fed",
   "metadata": {},
   "outputs": [
    {
     "ename": "Exception",
     "evalue": "This is my custom exception message",
     "output_type": "error",
     "traceback": [
      "\u001b[1;31m---------------------------------------------------------------------------\u001b[0m",
      "\u001b[1;31mException\u001b[0m                                 Traceback (most recent call last)",
      "\u001b[1;32m~\\AppData\\Local\\Temp/ipykernel_5172/279065867.py\u001b[0m in \u001b[0;36m<module>\u001b[1;34m\u001b[0m\n\u001b[0;32m      1\u001b[0m \u001b[1;31m# 5. Write a program to throw exception with your own message\u001b[0m\u001b[1;33m\u001b[0m\u001b[1;33m\u001b[0m\u001b[0m\n\u001b[1;32m----> 2\u001b[1;33m \u001b[1;32mraise\u001b[0m \u001b[0mException\u001b[0m\u001b[1;33m(\u001b[0m\u001b[1;34m\"This is my custom exception message\"\u001b[0m\u001b[1;33m)\u001b[0m\u001b[1;33m\u001b[0m\u001b[1;33m\u001b[0m\u001b[0m\n\u001b[0m",
      "\u001b[1;31mException\u001b[0m: This is my custom exception message"
     ]
    }
   ],
   "source": [
    "# 5. Write a program to throw exception with your own message\n",
    "raise Exception(\"This is my custom exception message\")\n"
   ]
  },
  {
   "cell_type": "code",
   "execution_count": 3,
   "id": "10ae0f69",
   "metadata": {},
   "outputs": [
    {
     "name": "stdout",
     "output_type": "stream",
     "text": [
      "Caught custom exception: This is my custom exception\n"
     ]
    }
   ],
   "source": [
    "# 6. Write a program to create your own exception\n",
    "class MyCustomException(Exception):\n",
    "    def __init__(self, message):\n",
    "        self.message = message\n",
    "\n",
    "try:\n",
    "    raise MyCustomException(\"This is my custom exception\")\n",
    "except MyCustomException as e:\n",
    "    print(\"Caught custom exception:\", e.message)\n"
   ]
  },
  {
   "cell_type": "code",
   "execution_count": 4,
   "id": "266b287e",
   "metadata": {},
   "outputs": [
    {
     "name": "stdout",
     "output_type": "stream",
     "text": [
      "Error: Division by zero\n",
      "This code will always execute\n"
     ]
    }
   ],
   "source": [
    "# 7. Write a program with finally block\n",
    "try:\n",
    "    # Code that may raise an exception\n",
    "    result = 10 / 0\n",
    "except ZeroDivisionError:\n",
    "    print(\"Error: Division by zero\")\n",
    "finally:\n",
    "    print(\"This code will always execute\")\n",
    "\n"
   ]
  },
  {
   "cell_type": "code",
   "execution_count": 5,
   "id": "655cc09c",
   "metadata": {},
   "outputs": [
    {
     "name": "stdout",
     "output_type": "stream",
     "text": [
      "Error: Division by zero\n"
     ]
    }
   ],
   "source": [
    "# 8. Write a program to generate Arithmetic Exception\n",
    "try:\n",
    "    result = 10 / 0\n",
    "except ZeroDivisionError:\n",
    "    print(\"Error: Division by zero\")\n"
   ]
  },
  {
   "cell_type": "code",
   "execution_count": 6,
   "id": "e8c15f16",
   "metadata": {},
   "outputs": [
    {
     "name": "stdout",
     "output_type": "stream",
     "text": [
      "Error: File not found\n"
     ]
    }
   ],
   "source": [
    "# 9. Write a program to generate FileNotFoundException\n",
    "try:\n",
    "    file = open(\"nonexistent_file.txt\", \"r\")\n",
    "except FileNotFoundError:\n",
    "    print(\"Error: File not found\")\n"
   ]
  },
  {
   "cell_type": "code",
   "execution_count": 7,
   "id": "0108f9ef",
   "metadata": {},
   "outputs": [
    {
     "name": "stdout",
     "output_type": "stream",
     "text": [
      "Error: Class not found: ClassName\n"
     ]
    }
   ],
   "source": [
    "# 10. Write a program to generate ClassNotFoundException\n",
    "try:\n",
    "    raise NameError(\"ClassName\")\n",
    "except NameError as e:\n",
    "    print(\"Error: Class not found:\", e)\n"
   ]
  },
  {
   "cell_type": "code",
   "execution_count": 2,
   "id": "ae47b915",
   "metadata": {},
   "outputs": [],
   "source": [
    "# 11. Write a program to generate IOException\n",
    "try:\n",
    "    file = open(\"file.txt\", \"r\")\n",
    "except IOError as e:\n",
    "    print(\"IOException:\", e)\n"
   ]
  },
  {
   "cell_type": "code",
   "execution_count": 1,
   "id": "79d32685",
   "metadata": {},
   "outputs": [
    {
     "name": "stdout",
     "output_type": "stream",
     "text": [
      "No such field: nonexistent_field\n"
     ]
    }
   ],
   "source": [
    "# 12. Write a program to generate NoSuchFieldException\n",
    "class MyClass:\n",
    "    def __init__(self, field):\n",
    "        self.field = field\n",
    "\n",
    "\n",
    "def generate_no_such_field_exception(obj, field):\n",
    "    try:\n",
    "        value = getattr(obj, field)\n",
    "        return value\n",
    "    except AttributeError:\n",
    "        raise AttributeError(f\"No such field: {field}\")\n",
    "\n",
    "\n",
    "# Create an instance of MyClass\n",
    "my_obj = MyClass(10)\n",
    "\n",
    "# Try to access a field that doesn't exist\n",
    "try:\n",
    "    generate_no_such_field_exception(my_obj, 'nonexistent_field')\n",
    "except AttributeError as e:\n",
    "    print(e)\n"
   ]
  },
  {
   "cell_type": "code",
   "execution_count": null,
   "id": "4d4c8b9c",
   "metadata": {},
   "outputs": [],
   "source": []
  }
 ],
 "metadata": {
  "kernelspec": {
   "display_name": "Python 3 (ipykernel)",
   "language": "python",
   "name": "python3"
  },
  "language_info": {
   "codemirror_mode": {
    "name": "ipython",
    "version": 3
   },
   "file_extension": ".py",
   "mimetype": "text/x-python",
   "name": "python",
   "nbconvert_exporter": "python",
   "pygments_lexer": "ipython3",
   "version": "3.9.7"
  }
 },
 "nbformat": 4,
 "nbformat_minor": 5
}
