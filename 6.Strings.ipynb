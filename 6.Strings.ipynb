{
 "cells": [
  {
   "cell_type": "code",
   "execution_count": 21,
   "id": "cc23e848",
   "metadata": {},
   "outputs": [],
   "source": [
    "# 1. Different ways creating a string\n",
    "string1 = 'Hello, world!'\n",
    "string2 = \"I am a string.\"\n",
    "string3 = '''This is a multi-line\n",
    "string using triple quotes.'''\n",
    "string4 = \"\"\"Another multi-line\n",
    "string using triple quotes.\"\"\"\n",
    "number = 42\n",
    "string5 = str(number)  # Converts the number 42 to the string '42'\n",
    "string6 = \"Hello\" + \" \" + \"world!\"  # Creates the string 'Hello world!'\n",
    "name = \"Alice\"\n",
    "age = 25\n",
    "string7 = f\"My name is {name} and I am {age} years old.\"\n",
    "string8 = \"My name is {} and I am {} years old.\".format(name, age)\n",
    "string9 = \"abc\" * 3  # Creates the string 'abcabcabc'\n"
   ]
  },
  {
   "cell_type": "code",
   "execution_count": 22,
   "id": "268b021d",
   "metadata": {},
   "outputs": [
    {
     "name": "stdout",
     "output_type": "stream",
     "text": [
      "Hello World\n"
     ]
    }
   ],
   "source": [
    "# 2. Concatenating two strings using + operator\n",
    "string1 = \"Hello\"\n",
    "string2 = \" \"\n",
    "string3 = \"World\"\n",
    "result = string1 + string2 + string3\n",
    "print(result)\n"
   ]
  },
  {
   "cell_type": "code",
   "execution_count": 23,
   "id": "5c17fd05",
   "metadata": {},
   "outputs": [
    {
     "name": "stdout",
     "output_type": "stream",
     "text": [
      "13\n"
     ]
    }
   ],
   "source": [
    "# 3. Finding the length of the string\n",
    "string = \"Hello, world!\"\n",
    "length = len(string)\n",
    "print(length)  # Output: 13\n"
   ]
  },
  {
   "cell_type": "code",
   "execution_count": 24,
   "id": "daacb49d",
   "metadata": {},
   "outputs": [
    {
     "name": "stdout",
     "output_type": "stream",
     "text": [
      "World\n"
     ]
    }
   ],
   "source": [
    "# 4. Extract a string using Substring\n",
    "text = \"Hello, World!\"\n",
    "substring = text[7:12]\n",
    "print(substring)\n"
   ]
  },
  {
   "cell_type": "code",
   "execution_count": 25,
   "id": "ff8b3316",
   "metadata": {},
   "outputs": [
    {
     "name": "stdout",
     "output_type": "stream",
     "text": [
      "16\n",
      "31\n"
     ]
    }
   ],
   "source": [
    "# 5. Searching in strings using index()\n",
    "sentence = \"The quick brown fox jumps over the lazy dog\"\n",
    "\n",
    "index = sentence.index(\"fox\")\n",
    "print(index)  # Output: 16\n",
    "\n",
    "index = sentence.index(\"the\", 20)\n",
    "print(index)  # Output: 40\n",
    "\n"
   ]
  },
  {
   "cell_type": "code",
   "execution_count": 26,
   "id": "87c156ed",
   "metadata": {},
   "outputs": [
    {
     "name": "stdout",
     "output_type": "stream",
     "text": [
      "String matches the pattern\n"
     ]
    }
   ],
   "source": [
    "# 6. Matching a String Against a Regular Expression With matches()\n",
    "import re\n",
    "\n",
    "text = \"Hello, World!\"\n",
    "pattern = r\"^Hello\"\n",
    "\n",
    "if re.match(pattern, text):\n",
    "    print(\"String matches the pattern\")\n",
    "else:\n",
    "    print(\"String does not match the pattern\")\n"
   ]
  },
  {
   "cell_type": "code",
   "execution_count": 27,
   "id": "8c818810",
   "metadata": {},
   "outputs": [
    {
     "name": "stdout",
     "output_type": "stream",
     "text": [
      "True\n",
      "False\n",
      "True\n",
      "True\n",
      "False\n",
      "False\n"
     ]
    }
   ],
   "source": [
    "# 7. Comparing strings\n",
    "text1 = \"apple\"\n",
    "text2 = \"banana\"\n",
    "\n",
    "print(text1 < text2) \n",
    "\n",
    "print(text1 >= text2)  \n",
    "print(text1 >= text1) \n",
    "print(text1 != text2)\n",
    "print(text1 == text2)\n",
    "print(text1 > text2)"
   ]
  },
  {
   "cell_type": "code",
   "execution_count": 28,
   "id": "0f84c45d",
   "metadata": {},
   "outputs": [
    {
     "name": "stdout",
     "output_type": "stream",
     "text": [
      "startsWith()\n",
      "True\n",
      "False\n",
      "endsWith()\n",
      "True\n",
      "False\n",
      "compareTo()\n",
      "False\n",
      "True\n",
      "True\n"
     ]
    }
   ],
   "source": [
    "# 8. startsWith(), endsWith() and compareTo()\n",
    "# startsWith()----------------------------\n",
    "print(\"startsWith()\")\n",
    "text = \"Hello, World!\"\n",
    "\n",
    "print(text.startswith(\"Hello\")) \n",
    "print(text.startswith(\"Hi\"))    \n",
    "#  endsWith() --------------------------------\n",
    "print(\"endsWith()\")\n",
    "\n",
    "\n",
    "print(text.endswith(\"World!\")) \n",
    "print(text.endswith(\"Universe\")) \n",
    "\n",
    "# compareTo()-------------------------------\n",
    "print(\"compareTo()\")\n",
    "\n",
    "a = \"Hello\"\n",
    "b = \"World\"\n",
    "\n",
    "print(a == b) \n",
    "print(a != b)  \n",
    "print(a < b)   \n"
   ]
  },
  {
   "cell_type": "code",
   "execution_count": 29,
   "id": "268b93c0",
   "metadata": {},
   "outputs": [
    {
     "name": "stdout",
     "output_type": "stream",
     "text": [
      "   Hello, World!   \n",
      "Hello, World!\n"
     ]
    }
   ],
   "source": [
    "# 9. Trimming strings with strip()\n",
    "text = \"   Hello, World!   \"\n",
    "print(text)\n",
    "\n",
    "trimmed_text = text.strip()\n",
    "print(trimmed_text)\n"
   ]
  },
  {
   "cell_type": "code",
   "execution_count": 30,
   "id": "73314afd",
   "metadata": {},
   "outputs": [
    {
     "name": "stdout",
     "output_type": "stream",
     "text": [
      "Hell@, W@rld!\n",
      "He!!o, Wor!d!\n"
     ]
    }
   ],
   "source": [
    "# 10. Replacing characters in strings with replace()\n",
    "text = \"Hello, World!\"\n",
    "new_text = text.replace(\"o\" , \"@\")\n",
    "new_text1 = text.replace(\"l\" , \"!\")\n",
    "\n",
    "print(new_text)\n",
    "print(new_text1)"
   ]
  },
  {
   "cell_type": "code",
   "execution_count": 31,
   "id": "63b8e7a0",
   "metadata": {},
   "outputs": [
    {
     "name": "stdout",
     "output_type": "stream",
     "text": [
      "['Hello,', 'World!', 'How', 'are', 'you?']\n"
     ]
    }
   ],
   "source": [
    "# 11. Splitting strings with split()\n",
    "text = \"Hello, World! How are you?\"\n",
    "words = text.split()\n",
    "print(words)\n"
   ]
  },
  {
   "cell_type": "code",
   "execution_count": 32,
   "id": "6c213e57",
   "metadata": {},
   "outputs": [
    {
     "name": "stdout",
     "output_type": "stream",
     "text": [
      "42\n"
     ]
    }
   ],
   "source": [
    "# 12. Converting integer objects to Strings\n",
    "number = 42\n",
    "string_number = str(number)\n",
    "print(string_number)\n"
   ]
  },
  {
   "cell_type": "code",
   "execution_count": 33,
   "id": "2eac9927",
   "metadata": {},
   "outputs": [
    {
     "name": "stdout",
     "output_type": "stream",
     "text": [
      "Uppercase: HELLO, WORLD!\n",
      "Lowercase: hello, world!\n"
     ]
    }
   ],
   "source": [
    "# 13. Converting to uppercase and lowercase\n",
    "text = \"Hello, World!\"\n",
    "\n",
    "# Convert to uppercase\n",
    "uppercase_text = text.upper()\n",
    "print(\"Uppercase:\", uppercase_text)\n",
    "\n",
    "# Convert to lowercase\n",
    "lowercase_text = text.lower()\n",
    "print(\"Lowercase:\", lowercase_text)\n"
   ]
  },
  {
   "cell_type": "code",
   "execution_count": null,
   "id": "8711c480",
   "metadata": {},
   "outputs": [],
   "source": []
  }
 ],
 "metadata": {
  "kernelspec": {
   "display_name": "Python 3 (ipykernel)",
   "language": "python",
   "name": "python3"
  },
  "language_info": {
   "codemirror_mode": {
    "name": "ipython",
    "version": 3
   },
   "file_extension": ".py",
   "mimetype": "text/x-python",
   "name": "python",
   "nbconvert_exporter": "python",
   "pygments_lexer": "ipython3",
   "version": "3.9.7"
  }
 },
 "nbformat": 4,
 "nbformat_minor": 5
}
