{
 "cells": [
  {
   "cell_type": "code",
   "execution_count": 1,
   "id": "83947e60",
   "metadata": {},
   "outputs": [
    {
     "name": "stdout",
     "output_type": "stream",
     "text": [
      "Default constructor called.\n",
      "One-argument constructor called. Number: 10\n",
      "Two-argument constructor called. Number 1: 20 Number 2: 30\n"
     ]
    }
   ],
   "source": [
    "# Write a class with a default constructor, one argument constructor and two argument \n",
    "# constructors. Instantiate the class to call all the constructors of that class from a main \n",
    "# class\n",
    "class ExampleClass:\n",
    "    def __init__(self, number1=None, number2=None):\n",
    "        if number1 is None and number2 is None:\n",
    "            print(\"Default constructor called.\")\n",
    "        elif number2 is None:\n",
    "            self.number1 = number1\n",
    "            print(\"One-argument constructor called. Number:\", self.number1)\n",
    "        else:\n",
    "            self.number1 = number1\n",
    "            self.number2 = number2\n",
    "            print(\"Two-argument constructor called. Number 1:\", self.number1, \"Number 2:\", self.number2)\n",
    "\n",
    "\n",
    "class MainClass:\n",
    "    def __init__(self):\n",
    "        example1 = ExampleClass()\n",
    "        example2 = ExampleClass(10)\n",
    "        example3 = ExampleClass(20, 30)\n",
    "\n",
    "\n",
    "main = MainClass()\n"
   ]
  },
  {
   "cell_type": "code",
   "execution_count": 14,
   "id": "6813f6db",
   "metadata": {},
   "outputs": [
    {
     "name": "stdout",
     "output_type": "stream",
     "text": [
      "ChildClass constructor called.\n",
      "SuperClass constructor called.\n",
      "SuperClass argument constructor called. Argument: Hello\n",
      "ChildClass argument constructor called. Argument: Hello\n"
     ]
    }
   ],
   "source": [
    "# 2. Call the constructors(both default and argument constructors) of super class from a child \n",
    "# class\n",
    "class SuperClass:\n",
    "    def __new__(cls, *args, **kwargs):\n",
    "        print(\"SuperClass constructor called.\")\n",
    "        return super().__new__(cls)\n",
    "\n",
    "    def __init__(self, arg):\n",
    "        print(\"SuperClass argument constructor called. Argument:\", arg)\n",
    "\n",
    "\n",
    "class ChildClass(SuperClass):\n",
    "    def __new__(cls, *args, **kwargs):\n",
    "        print(\"ChildClass constructor called.\")\n",
    "        return super().__new__(cls)\n",
    "\n",
    "    def __init__(self, arg):\n",
    "        super().__init__(arg)\n",
    "        print(\"ChildClass argument constructor called. Argument:\", arg)\n",
    "\n",
    "\n",
    "# Create instances of the ChildClass\n",
    "child1 = ChildClass(\"Hello\")\n",
    "\n"
   ]
  },
  {
   "cell_type": "code",
   "execution_count": 15,
   "id": "aa8232bc",
   "metadata": {},
   "outputs": [
    {
     "name": "stdout",
     "output_type": "stream",
     "text": [
      "public\n",
      "protected\n",
      "private\n"
     ]
    },
    {
     "ename": "AttributeError",
     "evalue": "'ExampleClass' object has no attribute '__private_param'",
     "output_type": "error",
     "traceback": [
      "\u001b[1;31m---------------------------------------------------------------------------\u001b[0m",
      "\u001b[1;31mAttributeError\u001b[0m                            Traceback (most recent call last)",
      "\u001b[1;32m~\\AppData\\Local\\Temp/ipykernel_11472/2055181545.py\u001b[0m in \u001b[0;36m<module>\u001b[1;34m\u001b[0m\n\u001b[0;32m     15\u001b[0m \u001b[0mprint\u001b[0m\u001b[1;33m(\u001b[0m\u001b[0mexample\u001b[0m\u001b[1;33m.\u001b[0m\u001b[0m_protected_param\u001b[0m\u001b[1;33m)\u001b[0m       \u001b[1;31m# Accessing _protected_param (protected)\u001b[0m\u001b[1;33m\u001b[0m\u001b[1;33m\u001b[0m\u001b[0m\n\u001b[0;32m     16\u001b[0m \u001b[0mprint\u001b[0m\u001b[1;33m(\u001b[0m\u001b[0mexample\u001b[0m\u001b[1;33m.\u001b[0m\u001b[0mget_private_param\u001b[0m\u001b[1;33m(\u001b[0m\u001b[1;33m)\u001b[0m\u001b[1;33m)\u001b[0m    \u001b[1;31m# Accessing __private_param (private)\u001b[0m\u001b[1;33m\u001b[0m\u001b[1;33m\u001b[0m\u001b[0m\n\u001b[1;32m---> 17\u001b[1;33m \u001b[0mprint\u001b[0m\u001b[1;33m(\u001b[0m\u001b[0mexample\u001b[0m\u001b[1;33m.\u001b[0m\u001b[0m__private_param\u001b[0m\u001b[1;33m)\u001b[0m        \u001b[1;31m# ERROR: __private_param is not accessible directly\u001b[0m\u001b[1;33m\u001b[0m\u001b[1;33m\u001b[0m\u001b[0m\n\u001b[0m",
      "\u001b[1;31mAttributeError\u001b[0m: 'ExampleClass' object has no attribute '__private_param'"
     ]
    }
   ],
   "source": [
    "# 3. Apply private, public, protected and default access modifiers to the constructor\n",
    "class ExampleClass:\n",
    "    def __init__(self, public_param, _protected_param, __private_param):\n",
    "        self.public_param = public_param\n",
    "        self._protected_param = _protected_param\n",
    "        self.__private_param = __private_param\n",
    "\n",
    "    def get_private_param(self):\n",
    "        return self.__private_param\n",
    "\n",
    "\n",
    "example = ExampleClass(\"public\", \"protected\", \"private\")\n",
    "\n",
    "print(example.public_param)           # Accessing public_param (public)\n",
    "print(example._protected_param)       # Accessing _protected_param (protected)\n",
    "print(example.get_private_param())    # Accessing __private_param (private)\n",
    "print(example.__private_param)        # ERROR: __private_param is not accessible directly\n"
   ]
  },
  {
   "cell_type": "code",
   "execution_count": 16,
   "id": "6605fbbd",
   "metadata": {},
   "outputs": [
    {
     "name": "stdout",
     "output_type": "stream",
     "text": [
      "Car Details:\n",
      "Make: Toyota\n",
      "Model: Camry\n",
      "Year: 2022\n"
     ]
    }
   ],
   "source": [
    "# 4. Write a program which illustrates the concept of attributes of a constructor.\n",
    "class Car:\n",
    "    def __init__(self, make, model, year):\n",
    "        self.make = make\n",
    "        self.model = model\n",
    "        self.year = year\n",
    "\n",
    "    def display_details(self):\n",
    "        print(f\"Make: {self.make}\")\n",
    "        print(f\"Model: {self.model}\")\n",
    "        print(f\"Year: {self.year}\")\n",
    "\n",
    "\n",
    "# Create an instance of Car\n",
    "my_car = Car(\"Toyota\", \"Camry\", 2022)\n",
    "\n",
    "# Access and display the attributes\n",
    "print(\"Car Details:\")\n",
    "my_car.display_details()\n"
   ]
  },
  {
   "cell_type": "code",
   "execution_count": null,
   "id": "9aad2fd6",
   "metadata": {},
   "outputs": [],
   "source": []
  }
 ],
 "metadata": {
  "kernelspec": {
   "display_name": "Python 3 (ipykernel)",
   "language": "python",
   "name": "python3"
  },
  "language_info": {
   "codemirror_mode": {
    "name": "ipython",
    "version": 3
   },
   "file_extension": ".py",
   "mimetype": "text/x-python",
   "name": "python",
   "nbconvert_exporter": "python",
   "pygments_lexer": "ipython3",
   "version": "3.9.7"
  }
 },
 "nbformat": 4,
 "nbformat_minor": 5
}
