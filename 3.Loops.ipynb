{
 "cells": [
  {
   "cell_type": "code",
   "execution_count": 1,
   "id": "3a2a4b86",
   "metadata": {},
   "outputs": [
    {
     "name": "stdout",
     "output_type": "stream",
     "text": [
      "Bright IT Career\n",
      "Bright IT Career\n",
      "Bright IT Career\n",
      "Bright IT Career\n",
      "Bright IT Career\n",
      "Bright IT Career\n",
      "Bright IT Career\n",
      "Bright IT Career\n",
      "Bright IT Career\n",
      "Bright IT Career\n"
     ]
    }
   ],
   "source": [
    "# 1. Write a program to print “Bright IT Career” ten times using for loop\n",
    "for a in range(10):\n",
    "    print(\"Bright IT Career\")\n"
   ]
  },
  {
   "cell_type": "code",
   "execution_count": 2,
   "id": "e2046ee5",
   "metadata": {},
   "outputs": [
    {
     "name": "stdout",
     "output_type": "stream",
     "text": [
      "1\n",
      "2\n",
      "3\n",
      "4\n",
      "5\n",
      "6\n",
      "7\n",
      "8\n",
      "9\n",
      "10\n",
      "11\n",
      "12\n",
      "13\n",
      "14\n",
      "15\n",
      "16\n",
      "17\n",
      "18\n",
      "19\n",
      "20\n"
     ]
    }
   ],
   "source": [
    "# Write a java program to print 1 to 20 numbers using the while loop.\n",
    "num = 1\n",
    "while num <= 20:\n",
    "    print(num)\n",
    "    num += 1\n"
   ]
  },
  {
   "cell_type": "code",
   "execution_count": 5,
   "id": "4428db01",
   "metadata": {},
   "outputs": [
    {
     "name": "stdout",
     "output_type": "stream",
     "text": [
      "5 is equal to 5\n",
      "10 is not equal to 7\n",
      "hello is not equal to world\n"
     ]
    }
   ],
   "source": [
    "# Program to equal operator and not equal operators\n",
    "def compare_values(a, b):\n",
    "    if a == b:\n",
    "        print(f\"{a} is equal to {b}\")\n",
    "    else:\n",
    "        print(f\"{a} is not equal to {b}\")\n",
    "\n",
    "# Example usage\n",
    "compare_values(5, 5)\n",
    "compare_values(10, 7)\n",
    "compare_values(\"hello\", \"world\")\n"
   ]
  },
  {
   "cell_type": "code",
   "execution_count": 6,
   "id": "7a519dc6",
   "metadata": {},
   "outputs": [
    {
     "name": "stdout",
     "output_type": "stream",
     "text": [
      "Odd numbers:\n",
      "1\n",
      "3\n",
      "5\n",
      "7\n",
      "9\n",
      "Even numbers:\n",
      "2\n",
      "4\n",
      "6\n",
      "8\n",
      "10\n"
     ]
    }
   ],
   "source": [
    "# Write a program to print the odd and even numbers.\n",
    "def print_odd_even(start, end):\n",
    "    print(\"Odd numbers:\")\n",
    "    for num in range(start, end + 1):\n",
    "        if num % 2 != 0:\n",
    "            print(num)\n",
    "\n",
    "    print(\"Even numbers:\")\n",
    "    for num in range(start, end + 1):\n",
    "        if num % 2 == 0:\n",
    "            print(num)\n",
    "\n",
    "# Example usage\n",
    "print_odd_even(1, 10)\n"
   ]
  },
  {
   "cell_type": "code",
   "execution_count": 7,
   "id": "c5dbad4c",
   "metadata": {},
   "outputs": [
    {
     "name": "stdout",
     "output_type": "stream",
     "text": [
      "The largest number is: 10\n",
      "The largest number is: 9\n",
      "The largest number is: 4\n"
     ]
    }
   ],
   "source": [
    "# 5. Write a program to print largest number among three numbers.\n",
    "def find_largest_number(a, b, c):\n",
    "    largest = a\n",
    "\n",
    "    if b > largest:\n",
    "        largest = b\n",
    "\n",
    "    if c > largest:\n",
    "        largest = c\n",
    "\n",
    "    print(\"The largest number is:\", largest)\n",
    "\n",
    "# Example usage\n",
    "find_largest_number(10, 5, 8)\n",
    "find_largest_number(3, 9, 6)\n",
    "find_largest_number(4, 4, 4)\n"
   ]
  },
  {
   "cell_type": "code",
   "execution_count": 8,
   "id": "1c064a79",
   "metadata": {},
   "outputs": [
    {
     "name": "stdout",
     "output_type": "stream",
     "text": [
      "Even numbers:\n",
      "10\n",
      "12\n",
      "14\n",
      "16\n",
      "18\n",
      "20\n"
     ]
    }
   ],
   "source": [
    "# 6. Write a program to print even number between 10 and 20 using while\n",
    "def print_odd_even(start, end):\n",
    "   \n",
    "    print(\"Even numbers:\")\n",
    "    for num in range(start, end + 1):\n",
    "        if num % 2 == 0:\n",
    "            print(num)\n",
    "\n",
    "# Example usage\n",
    "print_odd_even(10, 20)\n"
   ]
  },
  {
   "cell_type": "code",
   "execution_count": 16,
   "id": "f5e12393",
   "metadata": {},
   "outputs": [
    {
     "name": "stdout",
     "output_type": "stream",
     "text": [
      "1\n",
      "2\n",
      "3\n",
      "4\n",
      "5\n",
      "6\n",
      "7\n",
      "8\n",
      "9\n",
      "10\n"
     ]
    }
   ],
   "source": [
    "# 7. Write a program to print 1 to 10 using the do-while loop statement.\n",
    "def do_while_example():\n",
    "    number = 1\n",
    "    condition = True\n",
    "\n",
    "    while condition:\n",
    "        print(number)\n",
    "        number += 1\n",
    "\n",
    "        if number > 10:\n",
    "            condition = False\n",
    "\n",
    "# Example usage\n",
    "do_while_example()\n"
   ]
  },
  {
   "cell_type": "code",
   "execution_count": 21,
   "id": "5276c64d",
   "metadata": {},
   "outputs": [
    {
     "name": "stdout",
     "output_type": "stream",
     "text": [
      "True\n",
      "True\n",
      "False\n"
     ]
    }
   ],
   "source": [
    "# 8. Write a program to find Armstrong number or not\n",
    "def is_armstrong_number(number):\n",
    "    # Convert the number to a string to determine the number of digits\n",
    "    num_str = str(number)\n",
    "    num_digits = len(num_str)\n",
    "\n",
    "    # Calculate the sum of digits raised to the power of the number of digits\n",
    "    sum_of_digits = 0\n",
    "    for digit in num_str:\n",
    "        sum_of_digits += int(digit) ** num_digits\n",
    "\n",
    "    # Check if the number is an Armstrong number\n",
    "    if number == sum_of_digits:\n",
    "        return True\n",
    "    else:\n",
    "        return False\n",
    "\n",
    "# Example usage\n",
    "print(is_armstrong_number(153))  \n",
    "print(is_armstrong_number(370))  \n",
    "print(is_armstrong_number(123))  \n"
   ]
  },
  {
   "cell_type": "code",
   "execution_count": 22,
   "id": "cdec378d",
   "metadata": {},
   "outputs": [
    {
     "name": "stdout",
     "output_type": "stream",
     "text": [
      "True\n",
      "False\n",
      "True\n",
      "False\n"
     ]
    }
   ],
   "source": [
    "# 9. Write a program to find the prime or not.\n",
    "\n",
    "def is_prime(number):\n",
    "    # Prime numbers are greater than 1\n",
    "    if number <= 1:\n",
    "        return False\n",
    "\n",
    "    # Check for factors from 2 to the square root of the number\n",
    "    for i in range(2, int(number**0.5) + 1):\n",
    "        if number % i == 0:\n",
    "            return False\n",
    "\n",
    "    return True\n",
    "\n",
    "\n",
    "print(is_prime(7))   \n",
    "print(is_prime(10))  \n",
    "print(is_prime(29))  \n",
    "print(is_prime(1))   \n"
   ]
  },
  {
   "cell_type": "code",
   "execution_count": 23,
   "id": "856e3ecc",
   "metadata": {},
   "outputs": [
    {
     "name": "stdout",
     "output_type": "stream",
     "text": [
      "True\n",
      "True\n",
      "False\n",
      "True\n"
     ]
    }
   ],
   "source": [
    "# 10. Write a program to palindrome or not.\n",
    "def is_palindrome(number):\n",
    "    # Convert the number to a string for comparison\n",
    "    number_str = str(number)\n",
    "\n",
    "    # Check if the number is equal to its reverse\n",
    "    if number_str == number_str[::-1]:\n",
    "        return True\n",
    "    else:\n",
    "        return False\n",
    "\n",
    "# Example usage\n",
    "print(is_palindrome(121))   \n",
    "print(is_palindrome(12321))  \n",
    "print(is_palindrome(12345))  \n",
    "print(is_palindrome(1001))   \n"
   ]
  },
  {
   "cell_type": "code",
   "execution_count": 24,
   "id": "3672fbd9",
   "metadata": {},
   "outputs": [
    {
     "name": "stdout",
     "output_type": "stream",
     "text": [
      "The number is odd\n",
      "The number is even\n"
     ]
    }
   ],
   "source": [
    "# 11. Program to check whether a number is EVEN or ODD using switch\n",
    "def check_even_odd(number):\n",
    "    if number % 2 == 0:\n",
    "        print(\"The number is even\")\n",
    "    else:\n",
    "        print(\"The number is odd\")\n",
    "\n",
    "# Example usage\n",
    "check_even_odd(7)\n",
    "check_even_odd(10)\n"
   ]
  },
  {
   "cell_type": "code",
   "execution_count": 25,
   "id": "f9509d87",
   "metadata": {},
   "outputs": [
    {
     "name": "stdout",
     "output_type": "stream",
     "text": [
      "Gender: Male\n",
      "Gender: Female\n",
      "Invalid input\n"
     ]
    }
   ],
   "source": [
    "# 12. Print gender (Male/Female) program according to given M/F using switch\n",
    "def print_gender(gender):\n",
    "    if gender == 'M':\n",
    "        print(\"Gender: Male\")\n",
    "    elif gender == 'F':\n",
    "        print(\"Gender: Female\")\n",
    "    else:\n",
    "        print(\"Invalid input\")\n",
    "\n",
    "# Example usage\n",
    "print_gender('M')\n",
    "print_gender('F')\n",
    "print_gender('X')\n"
   ]
  },
  {
   "cell_type": "code",
   "execution_count": null,
   "id": "90fb3b7e",
   "metadata": {},
   "outputs": [],
   "source": []
  }
 ],
 "metadata": {
  "kernelspec": {
   "display_name": "Python 3 (ipykernel)",
   "language": "python",
   "name": "python3"
  },
  "language_info": {
   "codemirror_mode": {
    "name": "ipython",
    "version": 3
   },
   "file_extension": ".py",
   "mimetype": "text/x-python",
   "name": "python",
   "nbconvert_exporter": "python",
   "pygments_lexer": "ipython3",
   "version": "3.9.7"
  }
 },
 "nbformat": 4,
 "nbformat_minor": 5
}
