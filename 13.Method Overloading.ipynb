{
 "cells": [
  {
   "cell_type": "code",
   "execution_count": 20,
   "id": "eae0beaa",
   "metadata": {},
   "outputs": [
    {
     "name": "stdout",
     "output_type": "stream",
     "text": [
      "Method with one parameter: Hello\n",
      "Method with two parameters: Hello World\n"
     ]
    }
   ],
   "source": [
    "# Write two methods with the same name but different number of parameters of same type \n",
    "# and call the methods \n",
    "class ExampleClass:\n",
    "    def same_name_method(self, param1, param2=None):\n",
    "        if param2 is None:\n",
    "            print(\"Method with one parameter:\", param1)\n",
    "        else:\n",
    "            print(\"Method with two parameters:\", param1, param2)\n",
    "\n",
    "\n",
    "example = ExampleClass()\n",
    "example.same_name_method(\"Hello\")\n",
    "example.same_name_method(\"Hello\", \"World\")\n",
    "\n",
    "\n"
   ]
  },
  {
   "cell_type": "code",
   "execution_count": 21,
   "id": "3c317148",
   "metadata": {},
   "outputs": [
    {
     "name": "stdout",
     "output_type": "stream",
     "text": [
      "6\n",
      "12\n",
      "17.204\n"
     ]
    }
   ],
   "source": [
    "# 2. Write two methods with the same name but different number of parameters of different \n",
    "# data type and call the methods \n",
    "# Function to take multiple arguments\n",
    "from multipledispatch import dispatch\n",
    "\n",
    "# passing one parameter\n",
    "\n",
    "\n",
    "@dispatch(int, int)\n",
    "def product(first, second):\n",
    "    result = first*second\n",
    "    print(result)\n",
    "\n",
    "# passing two parameters\n",
    "\n",
    "\n",
    "@dispatch(int, int, int)\n",
    "def product(first, second, third):\n",
    "    result = first * second * third\n",
    "    print(result)\n",
    "\n",
    "# you can also pass data type of any value as per requirement\n",
    "\n",
    "\n",
    "@dispatch(float, float, float)\n",
    "def product(first, second, third):\n",
    "    result = first * second * third\n",
    "    print(result)\n",
    "\n",
    "\n",
    "# calling product method with 2 arguments\n",
    "product(2, 3) # this will give output of 6\n",
    "\n",
    "# calling product method with 3 arguments but all int\n",
    "product(2, 3, 2) # this will give output of 12\n",
    "\n",
    "# calling product method with 3 arguments but all float\n",
    "product(2.2, 3.4, 2.3) # this will give output of 17.985999999999997\n",
    "\n",
    "\n"
   ]
  },
  {
   "cell_type": "code",
   "execution_count": 22,
   "id": "dffc7ffd",
   "metadata": {},
   "outputs": [
    {
     "name": "stdout",
     "output_type": "stream",
     "text": [
      "Method with one parameter, but different implementation: Hello\n"
     ]
    }
   ],
   "source": [
    "# 3. Write two methods with the same name and same number of parameters of same type\n",
    "class ExampleClass:\n",
    "    def same_name_method(self, param1):\n",
    "        print(\"Method with one parameter:\", param1)\n",
    "\n",
    "    def same_name_method(self, param1):\n",
    "        print(\"Method with one parameter, but different implementation:\", param1)\n",
    "\n",
    "\n",
    "example = ExampleClass()\n",
    "example.same_name_method(\"Hello\")\n"
   ]
  },
  {
   "cell_type": "code",
   "execution_count": null,
   "id": "763ad757",
   "metadata": {},
   "outputs": [],
   "source": []
  }
 ],
 "metadata": {
  "kernelspec": {
   "display_name": "Python 3 (ipykernel)",
   "language": "python",
   "name": "python3"
  },
  "language_info": {
   "codemirror_mode": {
    "name": "ipython",
    "version": 3
   },
   "file_extension": ".py",
   "mimetype": "text/x-python",
   "name": "python",
   "nbconvert_exporter": "python",
   "pygments_lexer": "ipython3",
   "version": "3.9.7"
  }
 },
 "nbformat": 4,
 "nbformat_minor": 5
}
