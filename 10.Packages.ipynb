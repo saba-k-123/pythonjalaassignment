{
 "cells": [
  {
   "cell_type": "code",
   "execution_count": 1,
   "id": "ba93b2b5",
   "metadata": {},
   "outputs": [],
   "source": [
    "# 1. Create a program to create two class.\n",
    "# 1.1. Create a constructor and a method for each class\n",
    "# 1.2. Create a __init__.py for adding all packages\n",
    "# 1.3. Import the respective packages\n",
    "# 1.4. Call each class by creating an object to it \n",
    "# 1.5. Create a program by all the above"
   ]
  },
  {
   "cell_type": "code",
   "execution_count": 4,
   "id": "3bd88c9a",
   "metadata": {},
   "outputs": [],
   "source": [
    "# class1.py\n",
    "\n",
    "class Class1:\n",
    "    def __init__(self, name):\n",
    "        self.name = name\n",
    "\n",
    "    def method1(self):\n",
    "        print(f\"Hello, {self.name}! This is method1 from Class1.\")\n",
    "\n",
    "\n",
    "# class2.py\n",
    "\n",
    "class Class2:\n",
    "    def __init__(self, age):\n",
    "        self.age = age\n",
    "\n",
    "    def method2(self):\n",
    "        print(f\"You are {self.age} years old. This is method2 from Class2.\")\n"
   ]
  },
  {
   "cell_type": "code",
   "execution_count": 7,
   "id": "3660e327",
   "metadata": {},
   "outputs": [
    {
     "name": "stdout",
     "output_type": "stream",
     "text": [
      "Hello, saba! This is method1 from Class1.\n",
      "You are 24 years old. This is method2 from Class2.\n"
     ]
    }
   ],
   "source": [
    "# main.py\n",
    "\n",
    "# from package1.class1 import Class1\n",
    "# from package2.class2 import Class2\n",
    "\n",
    "# Create an object for Class1\n",
    "obj1 = Class1(\"saba\")\n",
    "obj1.method1()\n",
    "\n",
    "# Create an object for Class2\n",
    "obj2 = Class2(24)\n",
    "obj2.method2()\n"
   ]
  },
  {
   "cell_type": "code",
   "execution_count": null,
   "id": "13dfc5c7",
   "metadata": {},
   "outputs": [],
   "source": []
  }
 ],
 "metadata": {
  "kernelspec": {
   "display_name": "Python 3 (ipykernel)",
   "language": "python",
   "name": "python3"
  },
  "language_info": {
   "codemirror_mode": {
    "name": "ipython",
    "version": 3
   },
   "file_extension": ".py",
   "mimetype": "text/x-python",
   "name": "python",
   "nbconvert_exporter": "python",
   "pygments_lexer": "ipython3",
   "version": "3.9.7"
  }
 },
 "nbformat": 4,
 "nbformat_minor": 5
}
