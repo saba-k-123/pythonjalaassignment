{
 "cells": [
  {
   "cell_type": "code",
   "execution_count": 3,
   "id": "6b345f7a",
   "metadata": {},
   "outputs": [
    {
     "name": "stdout",
     "output_type": "stream",
     "text": [
      "Iâ€™m from a middle-class family, \n",
      "I am saba khalid. \n",
      "Nobody comes in this world, \n",
      "without the support of family and friends. \n",
      "Actually, whatever you will be, it is just because of your family. My father is a respectable businessman in our community.\n",
      "\n"
     ]
    }
   ],
   "source": [
    "# Write a program to read text file\n",
    "def read_text_file(file_path):\n",
    "    try:\n",
    "        with open(file_path, 'r') as file:\n",
    "            content = file.read()\n",
    "            print(content)\n",
    "    except FileNotFoundError:\n",
    "        print(\"File not found!\")\n",
    "    except IOError:\n",
    "        print(\"An error occurred while reading the file!\")\n",
    "\n",
    "# Provide the path to your text file here\n",
    "file_path = 'file.txt'\n",
    "\n",
    "# Call the function to read and print the file content\n",
    "read_text_file(file_path)\n"
   ]
  },
  {
   "cell_type": "code",
   "execution_count": 4,
   "id": "138e62c5",
   "metadata": {},
   "outputs": [
    {
     "name": "stdout",
     "output_type": "stream",
     "text": [
      "Enter the text you want to write: jljj\n",
      "Text written to the file successfully!\n"
     ]
    }
   ],
   "source": [
    "# 2. Write a program to write text to .txt file using InputStream\n",
    "def write_text_to_file(file_path):\n",
    "    try:\n",
    "        with open(file_path, 'w') as file:\n",
    "            text = input(\"Enter the text you want to write: \")\n",
    "            file.write(text)\n",
    "        print(\"Text written to the file successfully!\")\n",
    "    except IOError:\n",
    "        print(\"An error occurred while writing to the file!\")\n",
    "\n",
    "# Provide the path to your text file here\n",
    "file_path = 'file1.txt'\n",
    "\n",
    "# Call the function to write text to the file\n",
    "write_text_to_file(file_path)\n"
   ]
  },
  {
   "cell_type": "code",
   "execution_count": 5,
   "id": "d3fc1b89",
   "metadata": {},
   "outputs": [
    {
     "name": "stdout",
     "output_type": "stream",
     "text": [
      "Iâ€™m from a middle-class family, \n",
      "I am saba khalid. \n",
      "Nobody comes in this world, \n",
      "without the support of family and friends. \n",
      "Actually, whatever you will be, it is just because of your family. My father is a respectable businessman in our community.\n",
      "File stream read successfully!\n"
     ]
    }
   ],
   "source": [
    "# 3. Write a program to read a file stream\n",
    "def read_file_stream(file_path):\n",
    "    try:\n",
    "        with open(file_path, 'r') as file:\n",
    "            for line in file:\n",
    "                print(line, end='')\n",
    "        print(\"File stream read successfully!\")\n",
    "    except FileNotFoundError:\n",
    "        print(\"File not found!\")\n",
    "    except IOError:\n",
    "        print(\"An error occurred while reading the file stream!\")\n",
    "\n",
    "# Provide the path to your file here\n",
    "file_path = 'file.txt'\n",
    "\n",
    "# Call the function to read the file stream\n",
    "read_file_stream(file_path)\n"
   ]
  },
  {
   "cell_type": "code",
   "execution_count": 6,
   "id": "003ac02e",
   "metadata": {},
   "outputs": [
    {
     "name": "stdout",
     "output_type": "stream",
     "text": [
      "Data read:  a middle-class fami\n",
      "Current position: 30\n",
      "File stream read with random access successfully!\n"
     ]
    }
   ],
   "source": [
    "# 4. Write a program to read a file stream supports random access\n",
    "def read_file_with_random_access(file_path):\n",
    "    try:\n",
    "        with open(file_path, 'r') as file:\n",
    "            file.seek(10)  # Move the file pointer to a specific position (e.g., 10th byte)\n",
    "            data = file.read(20)  # Read 20 bytes from the current file pointer position\n",
    "            print(\"Data read:\", data)\n",
    "            \n",
    "            current_position = file.tell()  # Get the current file pointer position\n",
    "            print(\"Current position:\", current_position)\n",
    "\n",
    "        print(\"File stream read with random access successfully!\")\n",
    "    except FileNotFoundError:\n",
    "        print(\"File not found!\")\n",
    "    except IOError:\n",
    "        print(\"An error occurred while reading the file stream!\")\n",
    "\n",
    "# Provide the path to your file here\n",
    "file_path = 'file.txt'\n",
    "\n",
    "# Call the function to read the file stream with random access\n",
    "read_file_with_random_access(file_path)\n"
   ]
  },
  {
   "cell_type": "code",
   "execution_count": 7,
   "id": "1576561a",
   "metadata": {},
   "outputs": [
    {
     "name": "stdout",
     "output_type": "stream",
     "text": [
      "Data read: pport of family and friends. \n",
      "Actually, whatever you will be, it is just because of your family. My father is a respectable businessman in our community.\n",
      "\n",
      "File read up to index successfully!\n"
     ]
    }
   ],
   "source": [
    "# 5. Write a program to read a file a just to a particular index using seek()\n",
    "def read_file_up_to_index(file_path, index):\n",
    "    try:\n",
    "        with open(file_path, 'r') as file:\n",
    "            file.seek(index)  # Move the file pointer to the specified index\n",
    "            data = file.read()  # Read from the current file pointer position until the end\n",
    "            print(\"Data read:\", data)\n",
    "\n",
    "        print(\"File read up to index successfully!\")\n",
    "    except FileNotFoundError:\n",
    "        print(\"File not found!\")\n",
    "    except IOError:\n",
    "        print(\"An error occurred while reading the file!\")\n",
    "\n",
    "# Provide the path to your file here\n",
    "file_path = 'file.txt'\n",
    "\n",
    "# Provide the index to read up to\n",
    "index = 100\n",
    "\n",
    "# Call the function to read the file up to the specified index\n",
    "read_file_up_to_index(file_path, index)\n"
   ]
  },
  {
   "cell_type": "code",
   "execution_count": 8,
   "id": "bd330cae",
   "metadata": {},
   "outputs": [
    {
     "name": "stdout",
     "output_type": "stream",
     "text": [
      "Read access is granted to the file.\n",
      "Write access is granted to the file.\n"
     ]
    }
   ],
   "source": [
    "# 6. Write a program to check whether a file is having read access and write access permissions\n",
    "import os\n",
    "\n",
    "def check_file_permissions(file_path):\n",
    "    if os.access(file_path, os.R_OK):\n",
    "        print(\"Read access is granted to the file.\")\n",
    "    else:\n",
    "        print(\"Read access is not granted to the file.\")\n",
    "\n",
    "    if os.access(file_path, os.W_OK):\n",
    "        print(\"Write access is granted to the file.\")\n",
    "    else:\n",
    "        print(\"Write access is not granted to the file.\")\n",
    "\n",
    "# Provide the path to your file here\n",
    "file_path = 'file.txt'\n",
    "\n",
    "# Call the function to check file permissions\n",
    "check_file_permissions(file_path)\n"
   ]
  },
  {
   "cell_type": "code",
   "execution_count": null,
   "id": "cdd984cf",
   "metadata": {},
   "outputs": [],
   "source": []
  }
 ],
 "metadata": {
  "kernelspec": {
   "display_name": "Python 3 (ipykernel)",
   "language": "python",
   "name": "python3"
  },
  "language_info": {
   "codemirror_mode": {
    "name": "ipython",
    "version": 3
   },
   "file_extension": ".py",
   "mimetype": "text/x-python",
   "name": "python",
   "nbconvert_exporter": "python",
   "pygments_lexer": "ipython3",
   "version": "3.9.7"
  }
 },
 "nbformat": 4,
 "nbformat_minor": 5
}
