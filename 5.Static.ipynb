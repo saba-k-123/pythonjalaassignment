{
 "cells": [
  {
   "cell_type": "code",
   "execution_count": 1,
   "id": "53ca0cb9",
   "metadata": {},
   "outputs": [
    {
     "name": "stdout",
     "output_type": "stream",
     "text": [
      "Hello, I am a static variable!\n"
     ]
    }
   ],
   "source": [
    "# 1. Define a static variable and access that through a class\n",
    "class MyClass:\n",
    "    static_variable = \"Hello, I am a static variable!\"\n",
    "\n",
    "    def __init__(self):\n",
    "        # Constructor\n",
    "        pass\n",
    "\n",
    "print(MyClass.static_variable)\n"
   ]
  },
  {
   "cell_type": "code",
   "execution_count": 2,
   "id": "0d0658bc",
   "metadata": {},
   "outputs": [
    {
     "name": "stdout",
     "output_type": "stream",
     "text": [
      "Hello, I am a static variable!\n"
     ]
    }
   ],
   "source": [
    "# 2. Define a static variable and access that through a instance/\n",
    "class MyClass:\n",
    "    static_variable = \"Hello, I am a static variable!\"\n",
    "\n",
    "    def __init__(self):\n",
    "        # Constructor\n",
    "        pass\n",
    "\n",
    "my_instance = MyClass()\n",
    "print(my_instance.static_variable)\n"
   ]
  },
  {
   "cell_type": "code",
   "execution_count": 3,
   "id": "25c72360",
   "metadata": {},
   "outputs": [
    {
     "name": "stdout",
     "output_type": "stream",
     "text": [
      "Before change: Hello, I am a static variable!\n",
      "Before change: Hello, I am a static variable!\n",
      "After change: Hello, I am a static variable!\n",
      "After change: Modified static variable\n"
     ]
    }
   ],
   "source": [
    "# 3. Define a static variable and change within the instance\n",
    "class MyClass:\n",
    "    static_variable = \"Hello, I am a static variable!\"\n",
    "\n",
    "    def __init__(self):\n",
    "        # Constructor\n",
    "        pass\n",
    "\n",
    "my_instance = MyClass()\n",
    "print(\"Before change:\", MyClass.static_variable)  # Accessing through class\n",
    "print(\"Before change:\", my_instance.static_variable)  # Accessing through instance\n",
    "\n",
    "my_instance.static_variable = \"Modified static variable\"\n",
    "\n",
    "print(\"After change:\", MyClass.static_variable)  # Accessing through class\n",
    "print(\"After change:\", my_instance.static_variable)  # Accessing through instance\n"
   ]
  },
  {
   "cell_type": "code",
   "execution_count": 4,
   "id": "2a52a91a",
   "metadata": {},
   "outputs": [
    {
     "name": "stdout",
     "output_type": "stream",
     "text": [
      "Before change: Hello, I am a static variable!\n",
      "After change: Modified static variable\n"
     ]
    }
   ],
   "source": [
    "# 4. Define a static variable and change within the class\n",
    "class MyClass:\n",
    "    static_variable = \"Hello, I am a static variable!\"\n",
    "\n",
    "    def __init__(self):\n",
    "        # Constructor\n",
    "        pass\n",
    "\n",
    "print(\"Before change:\", MyClass.static_variable)\n",
    "\n",
    "MyClass.static_variable = \"Modified static variable\"\n",
    "\n",
    "print(\"After change:\", MyClass.static_variable)\n"
   ]
  },
  {
   "cell_type": "code",
   "execution_count": null,
   "id": "9117bb09",
   "metadata": {},
   "outputs": [],
   "source": []
  }
 ],
 "metadata": {
  "kernelspec": {
   "display_name": "Python 3 (ipykernel)",
   "language": "python",
   "name": "python3"
  },
  "language_info": {
   "codemirror_mode": {
    "name": "ipython",
    "version": 3
   },
   "file_extension": ".py",
   "mimetype": "text/x-python",
   "name": "python",
   "nbconvert_exporter": "python",
   "pygments_lexer": "ipython3",
   "version": "3.9.7"
  }
 },
 "nbformat": 4,
 "nbformat_minor": 5
}
