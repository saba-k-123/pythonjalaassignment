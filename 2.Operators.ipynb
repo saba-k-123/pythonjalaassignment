{
 "cells": [
  {
   "cell_type": "code",
   "execution_count": 3,
   "id": "d2cdf87c",
   "metadata": {},
   "outputs": [
    {
     "name": "stdout",
     "output_type": "stream",
     "text": [
      "8\n",
      "5\n",
      "24\n",
      "5.0\n",
      "1.1428571428571428\n"
     ]
    }
   ],
   "source": [
    "# Write a function for arithmetic operators(+,-,*,/)\n",
    "\n",
    "def arithmetic_operation(operator, operand1, operand2):\n",
    "    if operator == '+':\n",
    "        result = operand1 + operand2\n",
    "    elif operator == '-':\n",
    "        result = operand1 - operand2\n",
    "    elif operator == '*':\n",
    "        result = operand1 * operand2\n",
    "    elif operator == '/':\n",
    "        if operand2 != 0:\n",
    "            result = operand1 / operand2\n",
    "        else:\n",
    "            print(\"Error: Division by zero!\")\n",
    "            return None\n",
    "    else:\n",
    "        print(\"Error: Invalid operator!\")\n",
    "        return None\n",
    "    \n",
    "    return result\n",
    "\n",
    "# Addition\n",
    "print(arithmetic_operation('+', 5, 3))  # Output: 8\n",
    "\n",
    "# Subtraction\n",
    "print(arithmetic_operation('-', 7, 2))  # Output: 5\n",
    "\n",
    "# Multiplication\n",
    "print(arithmetic_operation('*', 4, 6))  # Output: 24\n",
    "\n",
    "# Division\n",
    "print(arithmetic_operation('/', 10, 2))  # Output: 5\n",
    "\n",
    "# Division by zero\n",
    "print(arithmetic_operation('/', 8, 7))  # Output: Error: Division by zero!\n"
   ]
  },
  {
   "cell_type": "code",
   "execution_count": 14,
   "id": "bf57d41a",
   "metadata": {},
   "outputs": [
    {
     "name": "stdout",
     "output_type": "stream",
     "text": [
      "After increment: 6\n",
      "After decrement: 5\n"
     ]
    }
   ],
   "source": [
    "# Write a method for increment and decrement operators(++, --)\n",
    "def increment_decrement(num):\n",
    "    num += 1  # Increment num by 1\n",
    "    print(\"After increment:\", num)\n",
    "\n",
    "    num -= 1  # Decrement num by 1\n",
    "    print(\"After decrement:\", num)\n",
    "\n",
    "\n",
    "num = 5\n",
    "num = increment_decrement(num)\n"
   ]
  },
  {
   "cell_type": "code",
   "execution_count": 20,
   "id": "62875362",
   "metadata": {},
   "outputs": [
    {
     "name": "stdout",
     "output_type": "stream",
     "text": [
      "5 < 10\n",
      "10 > 5\n",
      "7 <= 7\n"
     ]
    }
   ],
   "source": [
    "# 4. Program for relational operators (<,<==, >, >==)\n",
    "def compare_numbers(a, b):\n",
    "    if a < b:\n",
    "        print(f\"{a} < {b}\")\n",
    "    elif a <= b:\n",
    "        print(f\"{a} <= {b}\")\n",
    "    elif a > b:\n",
    "        print(f\"{a} > {b}\")\n",
    "    elif a >= b:\n",
    "        print(f\"{a} >= {b}\")\n",
    "    else:\n",
    "        print(f\"{a} = {b}\")\n",
    "\n",
    "\n",
    "# Comparing numbers\n",
    "compare_numbers(5, 10)\n",
    "compare_numbers(10, 5)\n",
    "compare_numbers(7, 7)\n"
   ]
  },
  {
   "cell_type": "code",
   "execution_count": 22,
   "id": "1de55fd0",
   "metadata": {},
   "outputs": [
    {
     "name": "stdout",
     "output_type": "stream",
     "text": [
      "Smaller number: 5\n",
      "Larger number: 10\n",
      "Smaller number: 7\n",
      "Larger number: 15\n",
      "Smaller number: 2\n",
      "Larger number: 8\n"
     ]
    }
   ],
   "source": [
    "# 5. Print the smaller and larger number\n",
    "def find_smaller_larger(a, b):\n",
    "    smaller = min(a, b)\n",
    "    larger = max(a, b)\n",
    "    print(\"Smaller number:\", smaller)\n",
    "    print(\"Larger number:\", larger)\n",
    "\n",
    "# Example usage\n",
    "find_smaller_larger(5, 10)\n",
    "find_smaller_larger(15, 7)\n",
    "find_smaller_larger(8, 2)\n"
   ]
  },
  {
   "cell_type": "code",
   "execution_count": null,
   "id": "eaf328ed",
   "metadata": {},
   "outputs": [],
   "source": []
  }
 ],
 "metadata": {
  "kernelspec": {
   "display_name": "Python 3 (ipykernel)",
   "language": "python",
   "name": "python3"
  },
  "language_info": {
   "codemirror_mode": {
    "name": "ipython",
    "version": 3
   },
   "file_extension": ".py",
   "mimetype": "text/x-python",
   "name": "python",
   "nbconvert_exporter": "python",
   "pygments_lexer": "ipython3",
   "version": "3.9.7"
  }
 },
 "nbformat": 4,
 "nbformat_minor": 5
}
